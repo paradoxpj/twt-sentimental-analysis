{
 "cells": [
  {
   "cell_type": "code",
   "execution_count": 1,
   "metadata": {},
   "outputs": [],
   "source": [
    "# Creating a function that returns polarity of a text using nltk VADER's sentiment analyzer\n",
    "from textblob import TextBlob\n",
    "from nltk.sentiment import SentimentIntensityAnalyzer\n",
    "\n",
    "class SentimentAnalysis:\n",
    "    \n",
    "    def __init__(self):\n",
    "        self.analyzer = SentimentIntensityAnalyzer()\n",
    "        \n",
    "    def tb_polarity_calculator(self, text):\n",
    "        blob = TextBlob(text)\n",
    "        return blob.sentiment.polarity\n",
    "        \n",
    "    def tb_sentiment_prediction(self, text):\n",
    "        blob = TextBlob(text)\n",
    "        if(blob.sentiment.polarity<0):\n",
    "            return -1\n",
    "        elif(blob.sentiment.polarity==0):\n",
    "            return 0\n",
    "        else:\n",
    "            return 1\n",
    "        \n",
    "    def polarity_calculator(self, text):\n",
    "        polarity = self.analyzer.polarity_scores(text)\n",
    "        return polarity\n",
    "        \n",
    "    def sentiment_prediction(self, text):\n",
    "        polarity = self.analyzer.polarity_scores(text)\n",
    "        if(polarity['compound']==0 and polarity['pos']==0 and polarity['neg']==0):\n",
    "            return self.tb_sentiment_prediction(text)\n",
    "        if polarity['compound']<0:\n",
    "            return -1\n",
    "        else:\n",
    "            if polarity['compound']<0.2:\n",
    "                if polarity['pos']-polarity['neg']<0.25:\n",
    "                    return -1\n",
    "        return 1"
   ]
  },
  {
   "cell_type": "code",
   "execution_count": 2,
   "metadata": {},
   "outputs": [
    {
     "data": {
      "text/html": [
       "<div>\n",
       "<style scoped>\n",
       "    .dataframe tbody tr th:only-of-type {\n",
       "        vertical-align: middle;\n",
       "    }\n",
       "\n",
       "    .dataframe tbody tr th {\n",
       "        vertical-align: top;\n",
       "    }\n",
       "\n",
       "    .dataframe thead th {\n",
       "        text-align: right;\n",
       "    }\n",
       "</style>\n",
       "<table border=\"1\" class=\"dataframe\">\n",
       "  <thead>\n",
       "    <tr style=\"text-align: right;\">\n",
       "      <th></th>\n",
       "      <th>target</th>\n",
       "      <th>text</th>\n",
       "    </tr>\n",
       "  </thead>\n",
       "  <tbody>\n",
       "    <tr>\n",
       "      <th>0</th>\n",
       "      <td>0</td>\n",
       "      <td>is so sad for my APL frie...</td>\n",
       "    </tr>\n",
       "    <tr>\n",
       "      <th>1</th>\n",
       "      <td>0</td>\n",
       "      <td>I missed the New Moon trail...</td>\n",
       "    </tr>\n",
       "    <tr>\n",
       "      <th>2</th>\n",
       "      <td>1</td>\n",
       "      <td>omg its already 7:30 :O</td>\n",
       "    </tr>\n",
       "    <tr>\n",
       "      <th>3</th>\n",
       "      <td>0</td>\n",
       "      <td>.. Omgaga. Im sooo  im gunna CRy. I'...</td>\n",
       "    </tr>\n",
       "    <tr>\n",
       "      <th>4</th>\n",
       "      <td>0</td>\n",
       "      <td>i think mi bf is cheating on me!!!   ...</td>\n",
       "    </tr>\n",
       "  </tbody>\n",
       "</table>\n",
       "</div>"
      ],
      "text/plain": [
       "   target                                               text\n",
       "0       0                       is so sad for my APL frie...\n",
       "1       0                     I missed the New Moon trail...\n",
       "2       1                            omg its already 7:30 :O\n",
       "3       0            .. Omgaga. Im sooo  im gunna CRy. I'...\n",
       "4       0           i think mi bf is cheating on me!!!   ..."
      ]
     },
     "execution_count": 2,
     "metadata": {},
     "output_type": "execute_result"
    }
   ],
   "source": [
    "# Loading data set\n",
    "\n",
    "import numpy as np\n",
    "import pandas as pd\n",
    "\n",
    "# data = pd.read_csv(\"training.1600000.processed.noemoticon.csv\",encoding='latin-1')\n",
    "# DATASET_COLUMNS = [\"target\", \"ids\", \"date\", \"flag\", \"user\", \"text\"]\n",
    "# data.columns = DATASET_COLUMNS\n",
    "\n",
    "data = pd.read_csv('dataset2.csv', skiprows=[8835,535881] , usecols = ['Sentiment' , 'SentimentText'])\n",
    "data.columns = [\"target\", \"text\"]\n",
    "\n",
    "data.head()"
   ]
  },
  {
   "cell_type": "code",
   "execution_count": 3,
   "metadata": {},
   "outputs": [
    {
     "data": {
      "text/plain": [
       "1    790177\n",
       "0    788435\n",
       "Name: target, dtype: int64"
      ]
     },
     "execution_count": 3,
     "metadata": {},
     "output_type": "execute_result"
    }
   ],
   "source": [
    "# target values determine what the tweet is labeled as, 4: positive, 2: neutral, 0: negative\n",
    "\n",
    "data[\"target\"].value_counts()"
   ]
  },
  {
   "cell_type": "code",
   "execution_count": 4,
   "metadata": {},
   "outputs": [
    {
     "data": {
      "text/html": [
       "<div>\n",
       "<style scoped>\n",
       "    .dataframe tbody tr th:only-of-type {\n",
       "        vertical-align: middle;\n",
       "    }\n",
       "\n",
       "    .dataframe tbody tr th {\n",
       "        vertical-align: top;\n",
       "    }\n",
       "\n",
       "    .dataframe thead th {\n",
       "        text-align: right;\n",
       "    }\n",
       "</style>\n",
       "<table border=\"1\" class=\"dataframe\">\n",
       "  <thead>\n",
       "    <tr style=\"text-align: right;\">\n",
       "      <th></th>\n",
       "      <th>target</th>\n",
       "      <th>text</th>\n",
       "    </tr>\n",
       "  </thead>\n",
       "  <tbody>\n",
       "    <tr>\n",
       "      <th>0</th>\n",
       "      <td>1</td>\n",
       "      <td>@Pishy__x yes, ugh I love anime!!!! Haha yer I...</td>\n",
       "    </tr>\n",
       "    <tr>\n",
       "      <th>1</th>\n",
       "      <td>1</td>\n",
       "      <td>Recommended @panacea81 to @MrTweet 'A really n...</td>\n",
       "    </tr>\n",
       "    <tr>\n",
       "      <th>2</th>\n",
       "      <td>1</td>\n",
       "      <td>@IanCovey Heh, it is something I am working on...</td>\n",
       "    </tr>\n",
       "    <tr>\n",
       "      <th>3</th>\n",
       "      <td>0</td>\n",
       "      <td>...cant drive away from my k and 2 graders fir...</td>\n",
       "    </tr>\n",
       "    <tr>\n",
       "      <th>4</th>\n",
       "      <td>1</td>\n",
       "      <td>is off to JoAnn Fabrics</td>\n",
       "    </tr>\n",
       "    <tr>\n",
       "      <th>5</th>\n",
       "      <td>1</td>\n",
       "      <td>Maybe I'll get back to coding over the next we...</td>\n",
       "    </tr>\n",
       "    <tr>\n",
       "      <th>6</th>\n",
       "      <td>0</td>\n",
       "      <td>is still searching for a job</td>\n",
       "    </tr>\n",
       "    <tr>\n",
       "      <th>7</th>\n",
       "      <td>1</td>\n",
       "      <td>Just saw Into the Wild - what a great movie, a...</td>\n",
       "    </tr>\n",
       "    <tr>\n",
       "      <th>8</th>\n",
       "      <td>0</td>\n",
       "      <td>@lisa_g ahhh lucky you... I don't for the next...</td>\n",
       "    </tr>\n",
       "    <tr>\n",
       "      <th>9</th>\n",
       "      <td>0</td>\n",
       "      <td>@sfannah @mattgarner I am just joking lol, I a...</td>\n",
       "    </tr>\n",
       "  </tbody>\n",
       "</table>\n",
       "</div>"
      ],
      "text/plain": [
       "   target                                               text\n",
       "0       1  @Pishy__x yes, ugh I love anime!!!! Haha yer I...\n",
       "1       1  Recommended @panacea81 to @MrTweet 'A really n...\n",
       "2       1  @IanCovey Heh, it is something I am working on...\n",
       "3       0  ...cant drive away from my k and 2 graders fir...\n",
       "4       1                           is off to JoAnn Fabrics \n",
       "5       1  Maybe I'll get back to coding over the next we...\n",
       "6       0                      is still searching for a job \n",
       "7       1  Just saw Into the Wild - what a great movie, a...\n",
       "8       0  @lisa_g ahhh lucky you... I don't for the next...\n",
       "9       0  @sfannah @mattgarner I am just joking lol, I a..."
      ]
     },
     "execution_count": 4,
     "metadata": {},
     "output_type": "execute_result"
    }
   ],
   "source": [
    "# Generating a random shuffled subset out of the large data set\n",
    "\n",
    "import random\n",
    "random_data = []\n",
    "size = 20000\n",
    "for i in range(size):\n",
    "    index = int(random.random() * 1500000)\n",
    "    random_data.append([data[\"target\"][index], data[\"text\"][index]])\n",
    "data_set = pd.DataFrame(random_data)\n",
    "data_set.columns = [\"target\", \"text\"]\n",
    "\n",
    "data_set2 = pd.DataFrame(random_data)\n",
    "data_set2.columns = [\"target\", \"text\"]\n",
    "\n",
    "data_set.head(10)"
   ]
  },
  {
   "cell_type": "code",
   "execution_count": 5,
   "metadata": {},
   "outputs": [
    {
     "data": {
      "text/plain": [
       "1    10099\n",
       "0     9901\n",
       "Name: target, dtype: int64"
      ]
     },
     "execution_count": 5,
     "metadata": {},
     "output_type": "execute_result"
    }
   ],
   "source": [
    "data_set['target'].value_counts()"
   ]
  },
  {
   "cell_type": "code",
   "execution_count": 6,
   "metadata": {},
   "outputs": [
    {
     "data": {
      "text/html": [
       "<div>\n",
       "<style scoped>\n",
       "    .dataframe tbody tr th:only-of-type {\n",
       "        vertical-align: middle;\n",
       "    }\n",
       "\n",
       "    .dataframe tbody tr th {\n",
       "        vertical-align: top;\n",
       "    }\n",
       "\n",
       "    .dataframe thead th {\n",
       "        text-align: right;\n",
       "    }\n",
       "</style>\n",
       "<table border=\"1\" class=\"dataframe\">\n",
       "  <thead>\n",
       "    <tr style=\"text-align: right;\">\n",
       "      <th></th>\n",
       "      <th>target</th>\n",
       "      <th>text</th>\n",
       "      <th>label</th>\n",
       "    </tr>\n",
       "  </thead>\n",
       "  <tbody>\n",
       "    <tr>\n",
       "      <th>0</th>\n",
       "      <td>1</td>\n",
       "      <td>@Pishy__x yes, ugh I love anime!!!! Haha yer I...</td>\n",
       "      <td>1</td>\n",
       "    </tr>\n",
       "    <tr>\n",
       "      <th>1</th>\n",
       "      <td>1</td>\n",
       "      <td>Recommended @panacea81 to @MrTweet 'A really n...</td>\n",
       "      <td>1</td>\n",
       "    </tr>\n",
       "    <tr>\n",
       "      <th>2</th>\n",
       "      <td>1</td>\n",
       "      <td>@IanCovey Heh, it is something I am working on...</td>\n",
       "      <td>1</td>\n",
       "    </tr>\n",
       "    <tr>\n",
       "      <th>3</th>\n",
       "      <td>0</td>\n",
       "      <td>...cant drive away from my k and 2 graders fir...</td>\n",
       "      <td>-1</td>\n",
       "    </tr>\n",
       "    <tr>\n",
       "      <th>4</th>\n",
       "      <td>1</td>\n",
       "      <td>is off to JoAnn Fabrics</td>\n",
       "      <td>1</td>\n",
       "    </tr>\n",
       "    <tr>\n",
       "      <th>5</th>\n",
       "      <td>1</td>\n",
       "      <td>Maybe I'll get back to coding over the next we...</td>\n",
       "      <td>1</td>\n",
       "    </tr>\n",
       "    <tr>\n",
       "      <th>6</th>\n",
       "      <td>0</td>\n",
       "      <td>is still searching for a job</td>\n",
       "      <td>-1</td>\n",
       "    </tr>\n",
       "    <tr>\n",
       "      <th>7</th>\n",
       "      <td>1</td>\n",
       "      <td>Just saw Into the Wild - what a great movie, a...</td>\n",
       "      <td>1</td>\n",
       "    </tr>\n",
       "    <tr>\n",
       "      <th>8</th>\n",
       "      <td>0</td>\n",
       "      <td>@lisa_g ahhh lucky you... I don't for the next...</td>\n",
       "      <td>-1</td>\n",
       "    </tr>\n",
       "    <tr>\n",
       "      <th>9</th>\n",
       "      <td>0</td>\n",
       "      <td>@sfannah @mattgarner I am just joking lol, I a...</td>\n",
       "      <td>-1</td>\n",
       "    </tr>\n",
       "  </tbody>\n",
       "</table>\n",
       "</div>"
      ],
      "text/plain": [
       "   target                                               text  label\n",
       "0       1  @Pishy__x yes, ugh I love anime!!!! Haha yer I...      1\n",
       "1       1  Recommended @panacea81 to @MrTweet 'A really n...      1\n",
       "2       1  @IanCovey Heh, it is something I am working on...      1\n",
       "3       0  ...cant drive away from my k and 2 graders fir...     -1\n",
       "4       1                           is off to JoAnn Fabrics       1\n",
       "5       1  Maybe I'll get back to coding over the next we...      1\n",
       "6       0                      is still searching for a job      -1\n",
       "7       1  Just saw Into the Wild - what a great movie, a...      1\n",
       "8       0  @lisa_g ahhh lucky you... I don't for the next...     -1\n",
       "9       0  @sfannah @mattgarner I am just joking lol, I a...     -1"
      ]
     },
     "execution_count": 6,
     "metadata": {},
     "output_type": "execute_result"
    }
   ],
   "source": [
    "# Applying label column for the values\n",
    "\n",
    "data_set['label'] = data_set['target'].apply(lambda x: -1 if x == 0 else 1)\n",
    "data_set.head(10)"
   ]
  },
  {
   "cell_type": "code",
   "execution_count": 7,
   "metadata": {},
   "outputs": [
    {
     "data": {
      "text/html": [
       "<div>\n",
       "<style scoped>\n",
       "    .dataframe tbody tr th:only-of-type {\n",
       "        vertical-align: middle;\n",
       "    }\n",
       "\n",
       "    .dataframe tbody tr th {\n",
       "        vertical-align: top;\n",
       "    }\n",
       "\n",
       "    .dataframe thead th {\n",
       "        text-align: right;\n",
       "    }\n",
       "</style>\n",
       "<table border=\"1\" class=\"dataframe\">\n",
       "  <thead>\n",
       "    <tr style=\"text-align: right;\">\n",
       "      <th></th>\n",
       "      <th>target</th>\n",
       "      <th>text</th>\n",
       "      <th>label</th>\n",
       "      <th>prediction</th>\n",
       "    </tr>\n",
       "  </thead>\n",
       "  <tbody>\n",
       "    <tr>\n",
       "      <th>0</th>\n",
       "      <td>1</td>\n",
       "      <td>@Pishy__x yes, ugh I love anime!!!! Haha yer I...</td>\n",
       "      <td>1</td>\n",
       "      <td>1</td>\n",
       "    </tr>\n",
       "    <tr>\n",
       "      <th>1</th>\n",
       "      <td>1</td>\n",
       "      <td>Recommended @panacea81 to @MrTweet 'A really n...</td>\n",
       "      <td>1</td>\n",
       "      <td>1</td>\n",
       "    </tr>\n",
       "    <tr>\n",
       "      <th>2</th>\n",
       "      <td>1</td>\n",
       "      <td>@IanCovey Heh, it is something I am working on...</td>\n",
       "      <td>1</td>\n",
       "      <td>-1</td>\n",
       "    </tr>\n",
       "    <tr>\n",
       "      <th>3</th>\n",
       "      <td>0</td>\n",
       "      <td>...cant drive away from my k and 2 graders fir...</td>\n",
       "      <td>-1</td>\n",
       "      <td>1</td>\n",
       "    </tr>\n",
       "    <tr>\n",
       "      <th>4</th>\n",
       "      <td>1</td>\n",
       "      <td>is off to JoAnn Fabrics</td>\n",
       "      <td>1</td>\n",
       "      <td>0</td>\n",
       "    </tr>\n",
       "    <tr>\n",
       "      <th>5</th>\n",
       "      <td>1</td>\n",
       "      <td>Maybe I'll get back to coding over the next we...</td>\n",
       "      <td>1</td>\n",
       "      <td>0</td>\n",
       "    </tr>\n",
       "    <tr>\n",
       "      <th>6</th>\n",
       "      <td>0</td>\n",
       "      <td>is still searching for a job</td>\n",
       "      <td>-1</td>\n",
       "      <td>0</td>\n",
       "    </tr>\n",
       "    <tr>\n",
       "      <th>7</th>\n",
       "      <td>1</td>\n",
       "      <td>Just saw Into the Wild - what a great movie, a...</td>\n",
       "      <td>1</td>\n",
       "      <td>1</td>\n",
       "    </tr>\n",
       "    <tr>\n",
       "      <th>8</th>\n",
       "      <td>0</td>\n",
       "      <td>@lisa_g ahhh lucky you... I don't for the next...</td>\n",
       "      <td>-1</td>\n",
       "      <td>1</td>\n",
       "    </tr>\n",
       "    <tr>\n",
       "      <th>9</th>\n",
       "      <td>0</td>\n",
       "      <td>@sfannah @mattgarner I am just joking lol, I a...</td>\n",
       "      <td>-1</td>\n",
       "      <td>1</td>\n",
       "    </tr>\n",
       "  </tbody>\n",
       "</table>\n",
       "</div>"
      ],
      "text/plain": [
       "   target                                               text  label  \\\n",
       "0       1  @Pishy__x yes, ugh I love anime!!!! Haha yer I...      1   \n",
       "1       1  Recommended @panacea81 to @MrTweet 'A really n...      1   \n",
       "2       1  @IanCovey Heh, it is something I am working on...      1   \n",
       "3       0  ...cant drive away from my k and 2 graders fir...     -1   \n",
       "4       1                           is off to JoAnn Fabrics       1   \n",
       "5       1  Maybe I'll get back to coding over the next we...      1   \n",
       "6       0                      is still searching for a job      -1   \n",
       "7       1  Just saw Into the Wild - what a great movie, a...      1   \n",
       "8       0  @lisa_g ahhh lucky you... I don't for the next...     -1   \n",
       "9       0  @sfannah @mattgarner I am just joking lol, I a...     -1   \n",
       "\n",
       "   prediction  \n",
       "0           1  \n",
       "1           1  \n",
       "2          -1  \n",
       "3           1  \n",
       "4           0  \n",
       "5           0  \n",
       "6           0  \n",
       "7           1  \n",
       "8           1  \n",
       "9           1  "
      ]
     },
     "execution_count": 7,
     "metadata": {},
     "output_type": "execute_result"
    }
   ],
   "source": [
    "# Generating polarity scores column\n",
    "\n",
    "sentiment_analyzer = SentimentAnalysis()\n",
    "data_set['prediction'] =  data_set['text'].apply(lambda x: sentiment_analyzer.sentiment_prediction(x))\n",
    "data_set.head(10)"
   ]
  },
  {
   "cell_type": "code",
   "execution_count": 8,
   "metadata": {},
   "outputs": [
    {
     "data": {
      "text/html": [
       "<div>\n",
       "<style scoped>\n",
       "    .dataframe tbody tr th:only-of-type {\n",
       "        vertical-align: middle;\n",
       "    }\n",
       "\n",
       "    .dataframe tbody tr th {\n",
       "        vertical-align: top;\n",
       "    }\n",
       "\n",
       "    .dataframe thead th {\n",
       "        text-align: right;\n",
       "    }\n",
       "</style>\n",
       "<table border=\"1\" class=\"dataframe\">\n",
       "  <thead>\n",
       "    <tr style=\"text-align: right;\">\n",
       "      <th></th>\n",
       "      <th>target</th>\n",
       "      <th>text</th>\n",
       "      <th>label</th>\n",
       "      <th>prediction</th>\n",
       "      <th>accuracy</th>\n",
       "    </tr>\n",
       "  </thead>\n",
       "  <tbody>\n",
       "    <tr>\n",
       "      <th>0</th>\n",
       "      <td>1</td>\n",
       "      <td>@Pishy__x yes, ugh I love anime!!!! Haha yer I...</td>\n",
       "      <td>1</td>\n",
       "      <td>1</td>\n",
       "      <td>1</td>\n",
       "    </tr>\n",
       "    <tr>\n",
       "      <th>1</th>\n",
       "      <td>1</td>\n",
       "      <td>Recommended @panacea81 to @MrTweet 'A really n...</td>\n",
       "      <td>1</td>\n",
       "      <td>1</td>\n",
       "      <td>1</td>\n",
       "    </tr>\n",
       "    <tr>\n",
       "      <th>2</th>\n",
       "      <td>1</td>\n",
       "      <td>@IanCovey Heh, it is something I am working on...</td>\n",
       "      <td>1</td>\n",
       "      <td>-1</td>\n",
       "      <td>0</td>\n",
       "    </tr>\n",
       "    <tr>\n",
       "      <th>3</th>\n",
       "      <td>0</td>\n",
       "      <td>...cant drive away from my k and 2 graders fir...</td>\n",
       "      <td>-1</td>\n",
       "      <td>1</td>\n",
       "      <td>0</td>\n",
       "    </tr>\n",
       "    <tr>\n",
       "      <th>4</th>\n",
       "      <td>1</td>\n",
       "      <td>is off to JoAnn Fabrics</td>\n",
       "      <td>1</td>\n",
       "      <td>0</td>\n",
       "      <td>1</td>\n",
       "    </tr>\n",
       "    <tr>\n",
       "      <th>5</th>\n",
       "      <td>1</td>\n",
       "      <td>Maybe I'll get back to coding over the next we...</td>\n",
       "      <td>1</td>\n",
       "      <td>0</td>\n",
       "      <td>1</td>\n",
       "    </tr>\n",
       "    <tr>\n",
       "      <th>6</th>\n",
       "      <td>0</td>\n",
       "      <td>is still searching for a job</td>\n",
       "      <td>-1</td>\n",
       "      <td>0</td>\n",
       "      <td>1</td>\n",
       "    </tr>\n",
       "    <tr>\n",
       "      <th>7</th>\n",
       "      <td>1</td>\n",
       "      <td>Just saw Into the Wild - what a great movie, a...</td>\n",
       "      <td>1</td>\n",
       "      <td>1</td>\n",
       "      <td>1</td>\n",
       "    </tr>\n",
       "    <tr>\n",
       "      <th>8</th>\n",
       "      <td>0</td>\n",
       "      <td>@lisa_g ahhh lucky you... I don't for the next...</td>\n",
       "      <td>-1</td>\n",
       "      <td>1</td>\n",
       "      <td>0</td>\n",
       "    </tr>\n",
       "    <tr>\n",
       "      <th>9</th>\n",
       "      <td>0</td>\n",
       "      <td>@sfannah @mattgarner I am just joking lol, I a...</td>\n",
       "      <td>-1</td>\n",
       "      <td>1</td>\n",
       "      <td>0</td>\n",
       "    </tr>\n",
       "  </tbody>\n",
       "</table>\n",
       "</div>"
      ],
      "text/plain": [
       "   target                                               text  label  \\\n",
       "0       1  @Pishy__x yes, ugh I love anime!!!! Haha yer I...      1   \n",
       "1       1  Recommended @panacea81 to @MrTweet 'A really n...      1   \n",
       "2       1  @IanCovey Heh, it is something I am working on...      1   \n",
       "3       0  ...cant drive away from my k and 2 graders fir...     -1   \n",
       "4       1                           is off to JoAnn Fabrics       1   \n",
       "5       1  Maybe I'll get back to coding over the next we...      1   \n",
       "6       0                      is still searching for a job      -1   \n",
       "7       1  Just saw Into the Wild - what a great movie, a...      1   \n",
       "8       0  @lisa_g ahhh lucky you... I don't for the next...     -1   \n",
       "9       0  @sfannah @mattgarner I am just joking lol, I a...     -1   \n",
       "\n",
       "   prediction  accuracy  \n",
       "0           1         1  \n",
       "1           1         1  \n",
       "2          -1         0  \n",
       "3           1         0  \n",
       "4           0         1  \n",
       "5           0         1  \n",
       "6           0         1  \n",
       "7           1         1  \n",
       "8           1         0  \n",
       "9           1         0  "
      ]
     },
     "execution_count": 8,
     "metadata": {},
     "output_type": "execute_result"
    }
   ],
   "source": [
    "# Creating accuracy column\n",
    "data_set['accuracy'] = data_set.apply(lambda x: 1 if (x['prediction'] == x['label'] or x['prediction']==0) else 0, axis=1)\n",
    "data_set.head(10)"
   ]
  },
  {
   "cell_type": "code",
   "execution_count": 9,
   "metadata": {},
   "outputs": [
    {
     "data": {
      "text/html": [
       "<div>\n",
       "<style scoped>\n",
       "    .dataframe tbody tr th:only-of-type {\n",
       "        vertical-align: middle;\n",
       "    }\n",
       "\n",
       "    .dataframe tbody tr th {\n",
       "        vertical-align: top;\n",
       "    }\n",
       "\n",
       "    .dataframe thead th {\n",
       "        text-align: right;\n",
       "    }\n",
       "</style>\n",
       "<table border=\"1\" class=\"dataframe\">\n",
       "  <thead>\n",
       "    <tr style=\"text-align: right;\">\n",
       "      <th></th>\n",
       "      <th>target</th>\n",
       "      <th>text</th>\n",
       "      <th>label</th>\n",
       "      <th>prediction</th>\n",
       "      <th>accuracy</th>\n",
       "      <th>Conf_Matrix</th>\n",
       "    </tr>\n",
       "  </thead>\n",
       "  <tbody>\n",
       "    <tr>\n",
       "      <th>0</th>\n",
       "      <td>1</td>\n",
       "      <td>@Pishy__x yes, ugh I love anime!!!! Haha yer I...</td>\n",
       "      <td>1</td>\n",
       "      <td>1</td>\n",
       "      <td>1</td>\n",
       "      <td>TN</td>\n",
       "    </tr>\n",
       "    <tr>\n",
       "      <th>1</th>\n",
       "      <td>1</td>\n",
       "      <td>Recommended @panacea81 to @MrTweet 'A really n...</td>\n",
       "      <td>1</td>\n",
       "      <td>1</td>\n",
       "      <td>1</td>\n",
       "      <td>TN</td>\n",
       "    </tr>\n",
       "    <tr>\n",
       "      <th>2</th>\n",
       "      <td>1</td>\n",
       "      <td>@IanCovey Heh, it is something I am working on...</td>\n",
       "      <td>1</td>\n",
       "      <td>-1</td>\n",
       "      <td>0</td>\n",
       "      <td>FP</td>\n",
       "    </tr>\n",
       "    <tr>\n",
       "      <th>3</th>\n",
       "      <td>0</td>\n",
       "      <td>...cant drive away from my k and 2 graders fir...</td>\n",
       "      <td>-1</td>\n",
       "      <td>1</td>\n",
       "      <td>0</td>\n",
       "      <td>FN</td>\n",
       "    </tr>\n",
       "    <tr>\n",
       "      <th>4</th>\n",
       "      <td>1</td>\n",
       "      <td>is off to JoAnn Fabrics</td>\n",
       "      <td>1</td>\n",
       "      <td>0</td>\n",
       "      <td>1</td>\n",
       "      <td>0</td>\n",
       "    </tr>\n",
       "    <tr>\n",
       "      <th>5</th>\n",
       "      <td>1</td>\n",
       "      <td>Maybe I'll get back to coding over the next we...</td>\n",
       "      <td>1</td>\n",
       "      <td>0</td>\n",
       "      <td>1</td>\n",
       "      <td>0</td>\n",
       "    </tr>\n",
       "    <tr>\n",
       "      <th>6</th>\n",
       "      <td>0</td>\n",
       "      <td>is still searching for a job</td>\n",
       "      <td>-1</td>\n",
       "      <td>0</td>\n",
       "      <td>1</td>\n",
       "      <td>0</td>\n",
       "    </tr>\n",
       "    <tr>\n",
       "      <th>7</th>\n",
       "      <td>1</td>\n",
       "      <td>Just saw Into the Wild - what a great movie, a...</td>\n",
       "      <td>1</td>\n",
       "      <td>1</td>\n",
       "      <td>1</td>\n",
       "      <td>TN</td>\n",
       "    </tr>\n",
       "    <tr>\n",
       "      <th>8</th>\n",
       "      <td>0</td>\n",
       "      <td>@lisa_g ahhh lucky you... I don't for the next...</td>\n",
       "      <td>-1</td>\n",
       "      <td>1</td>\n",
       "      <td>0</td>\n",
       "      <td>FN</td>\n",
       "    </tr>\n",
       "    <tr>\n",
       "      <th>9</th>\n",
       "      <td>0</td>\n",
       "      <td>@sfannah @mattgarner I am just joking lol, I a...</td>\n",
       "      <td>-1</td>\n",
       "      <td>1</td>\n",
       "      <td>0</td>\n",
       "      <td>FN</td>\n",
       "    </tr>\n",
       "  </tbody>\n",
       "</table>\n",
       "</div>"
      ],
      "text/plain": [
       "   target                                               text  label  \\\n",
       "0       1  @Pishy__x yes, ugh I love anime!!!! Haha yer I...      1   \n",
       "1       1  Recommended @panacea81 to @MrTweet 'A really n...      1   \n",
       "2       1  @IanCovey Heh, it is something I am working on...      1   \n",
       "3       0  ...cant drive away from my k and 2 graders fir...     -1   \n",
       "4       1                           is off to JoAnn Fabrics       1   \n",
       "5       1  Maybe I'll get back to coding over the next we...      1   \n",
       "6       0                      is still searching for a job      -1   \n",
       "7       1  Just saw Into the Wild - what a great movie, a...      1   \n",
       "8       0  @lisa_g ahhh lucky you... I don't for the next...     -1   \n",
       "9       0  @sfannah @mattgarner I am just joking lol, I a...     -1   \n",
       "\n",
       "   prediction  accuracy Conf_Matrix  \n",
       "0           1         1          TN  \n",
       "1           1         1          TN  \n",
       "2          -1         0          FP  \n",
       "3           1         0          FN  \n",
       "4           0         1           0  \n",
       "5           0         1           0  \n",
       "6           0         1           0  \n",
       "7           1         1          TN  \n",
       "8           1         0          FN  \n",
       "9           1         0          FN  "
      ]
     },
     "execution_count": 9,
     "metadata": {},
     "output_type": "execute_result"
    }
   ],
   "source": [
    "# Creating a confusion matrix column\n",
    "\n",
    "def conf_matrix(x):\n",
    "  if x['label'] == -1 and x['prediction'] == -1:\n",
    "    return 'TP'\n",
    "  elif x['label'] == -1 and x['prediction'] == 1:\n",
    "    return 'FN'\n",
    "  elif x['label'] == 1 and x['prediction'] == -1:\n",
    "    return 'FP'\n",
    "  elif x['label'] == 1 and x['prediction'] == 1:\n",
    "    return 'TN'\n",
    "  else:\n",
    "    return 0\n",
    "    \n",
    "data_set['Conf_Matrix'] = data_set.apply(lambda x: conf_matrix(x), axis=1)\n",
    "data_set.head(10)"
   ]
  },
  {
   "cell_type": "code",
   "execution_count": 10,
   "metadata": {},
   "outputs": [
    {
     "name": "stdout",
     "output_type": "stream",
     "text": [
      "{'TN': 6497, 'TP': 4951, 0: 3828, 'FN': 3171, 'FP': 1553}\n"
     ]
    }
   ],
   "source": [
    "# Printing confusion matrix value counts\n",
    "\n",
    "conf_vals = data_set.Conf_Matrix.value_counts().to_dict()\n",
    "print(conf_vals)"
   ]
  },
  {
   "cell_type": "code",
   "execution_count": 11,
   "metadata": {},
   "outputs": [
    {
     "name": "stdout",
     "output_type": "stream",
     "text": [
      "Accuracy:  70.79 % \n",
      "Precision:  76.12 % \n",
      "Recall:  60.96 % \n",
      "F1 Score:  67.7 %\n"
     ]
    }
   ],
   "source": [
    "accuracy = (conf_vals['TP'] + conf_vals['TN']) / (conf_vals['TP'] + conf_vals['TN'] + conf_vals['FP'] + conf_vals['FN'])\n",
    "precision = conf_vals['TP'] / (conf_vals['TP'] + conf_vals['FP'])\n",
    "recall = conf_vals['TP'] / (conf_vals['TP'] + conf_vals['FN'])\n",
    "f1_score = 2*precision*recall / (precision + recall)\n",
    "print('Accuracy: ', round(100 * accuracy, 2),'%',\n",
    "      '\\nPrecision: ', round(100 * precision, 2),'%',\n",
    "      '\\nRecall: ', round(100 * recall, 2),'%',\n",
    "      '\\nF1 Score: ', round(100 * f1_score, 2),'%')"
   ]
  },
  {
   "cell_type": "code",
   "execution_count": 12,
   "metadata": {},
   "outputs": [],
   "source": [
    "import os\n",
    "from dotenv import load_dotenv\n",
    "\n",
    "load_dotenv()\n",
    "    \n",
    "# Assigning values of authorization keys from environment variables\n",
    "consumer_key = os.environ.get(\"TWTAPI_CK\")\n",
    "consumer_secret = os.environ.get(\"TWTAPI_CS\")\n",
    "access_token = os.environ.get(\"TWTAPI_AT\")\n",
    "access_token_secret = os.environ.get(\"TWTAPI_ATS\")"
   ]
  },
  {
   "cell_type": "code",
   "execution_count": 13,
   "metadata": {},
   "outputs": [],
   "source": [
    "from tweepy import OAuthHandler, API, Cursor\n",
    "\n",
    "# Authorizing Twitter API\n",
    "auth = OAuthHandler(consumer_key, consumer_secret)\n",
    "auth.set_access_token(access_token, access_token_secret)\n",
    "auth_api = API(auth)"
   ]
  },
  {
   "cell_type": "code",
   "execution_count": 14,
   "metadata": {},
   "outputs": [],
   "source": [
    "# A function to fetch a given user's details from Twitter API\n",
    "\n",
    "def fetch_user_details(auth_api, user):\n",
    "    user_item = auth_api.get_user(user)\n",
    "    # Adding user details into a list.\n",
    "    user_details = [\n",
    "        user_item.name,\n",
    "        user_item.screen_name,\n",
    "        user_item.description,\n",
    "        user_item.statuses_count,\n",
    "        user_item.friends_count,\n",
    "        user_item.followers_count,\n",
    "    ]\n",
    "    return user_details"
   ]
  },
  {
   "cell_type": "code",
   "execution_count": 15,
   "metadata": {},
   "outputs": [],
   "source": [
    "# Function to check if a tweet is in english language\n",
    "\n",
    "from langdetect import detect\n",
    "\n",
    "def is_english(Text):\n",
    "    try:\n",
    "        if(detect(Text) == \"en\"):\n",
    "            return True;\n",
    "        else:\n",
    "            return False;\n",
    "    except:\n",
    "        return False"
   ]
  },
  {
   "cell_type": "code",
   "execution_count": 16,
   "metadata": {},
   "outputs": [],
   "source": [
    "# A function to fetch a user's tweets from Twitter API\n",
    "\n",
    "def fetch_user_tweets(auth_api, user, max_count):\n",
    "    # A list to store all the tweets by the user\n",
    "    user_tweets = []\n",
    "    # Fetching tweets of the given user from Twitter API and travesing through them.\n",
    "    for status in Cursor(auth_api.user_timeline, id=user, tweet_mode=\"extended\").items(max_count):\n",
    "        if(status.retweeted==True or ('RT @' in status.full_text) ):\n",
    "            # Condition to check if the tweet is not original\n",
    "            continue\n",
    "        if(not is_english(status.full_text)):\n",
    "            continue\n",
    "        if(len(status.full_text)<=25):\n",
    "            continue\n",
    "        # Appending all the necessary details related to the tweet into the user tweets list.\n",
    "        user_tweets.append(status.full_text)\n",
    "    return user_tweets"
   ]
  },
  {
   "cell_type": "code",
   "execution_count": 17,
   "metadata": {},
   "outputs": [],
   "source": [
    "# A function to process users\n",
    "\n",
    "def process_users(auth_api, user):\n",
    "    # Calling functions to fetch the user's details and tweets.\n",
    "    user_details = fetch_user_details(auth_api, user)\n",
    "    user_tweets = fetch_user_tweets(auth_api, user, 1000)\n",
    "        \n",
    "    tweet_data = pd.DataFrame(user_tweets)\n",
    "    tweet_data['prediction'] =  tweet_data[0].apply(lambda x: sentiment_analyzer.sentiment_prediction(x))\n",
    "    tweet_data['polarity'] = tweet_data[0].apply(lambda x: sentiment_analyzer.polarity_calculator(x))\n",
    "    \n",
    "    return tweet_data"
   ]
  },
  {
   "cell_type": "code",
   "execution_count": 18,
   "metadata": {},
   "outputs": [],
   "source": [
    "import matplotlib.pyplot as plt\n",
    "\n",
    "def plot_graph(data, title, xlabel, ylabel):\n",
    "    polarity = list(data.keys())\n",
    "    count = list(data.values())\n",
    "\n",
    "    fig = plt.figure(figsize = (10, 5))\n",
    "\n",
    "    # creating the bar plot\n",
    "    barlist = plt.bar(polarity, count,\n",
    "            width = 0.3)\n",
    "    barlist[0].set_color('g')\n",
    "    barlist[1].set_color('r')\n",
    "    if(title==\"Average polarity\"):\n",
    "        barlist[2].set_color('orange')\n",
    "        plt.ylim(0, 1)\n",
    "    \n",
    "    plt.xlabel(xlabel)\n",
    "    plt.ylabel(ylabel)\n",
    "    plt.title(title)\n",
    "    plt.show()\n",
    "    \n",
    "def donut_chart(data):\n",
    "    names = list(data.keys())\n",
    "    size = list(data.values())\n",
    "\n",
    "    # Create a circle at the center of the plot\n",
    "    my_circle = plt.Circle( (0,0), 0.7, color='white')\n",
    "\n",
    "    # Give color names\n",
    "    plt.pie(size, labels=names, colors=['green','red', 'blue'])\n",
    "    p = plt.gcf()\n",
    "    p.gca().add_artist(my_circle)\n",
    "\n",
    "    # Show the graph\n",
    "    plt.show()\n",
    "\n",
    "\n",
    "def display_result(result):\n",
    "    \n",
    "    result_predictions = result.prediction.value_counts().to_dict()\n",
    "    for i in range(-1, 2):\n",
    "        if i not in result_predictions:\n",
    "            result_predictions[i]=0\n",
    "            \n",
    "    total_tweets = len(result.index)\n",
    "    \n",
    "    average_polarity = {\"pos\":0, \"neg\":0, \"compound\":0}\n",
    "    for i in result[\"polarity\"]:\n",
    "        for j in average_polarity:\n",
    "            average_polarity[j] += i[j]\n",
    "    for i in average_polarity:\n",
    "        average_polarity[i] = round(average_polarity[i]/total_tweets, 5)\n",
    "    \n",
    "    data = dict()\n",
    "    data[\"Positive\"] = round((result_predictions[1]/total_tweets)*100, 2)\n",
    "    data[\"Negative\"] = round((result_predictions[-1]/total_tweets)*100, 2)\n",
    "    data[\"Neutral\"] = round((result_predictions[0]/total_tweets)*100, 2)\n",
    "    \n",
    "    print(\"Total valid tweets:\", total_tweets,)\n",
    "    \n",
    "    new_keys = ['Negative tweets','Neutral tweets', 'Positive tweets']\n",
    "    for key in range(-1, 2):\n",
    "        result_predictions[new_keys[key+1]] = result_predictions.pop(key)\n",
    "    print(result_predictions)\n",
    "    \n",
    "    plot_graph(data, \"Tweet polarity by percentage\", \"Polarity\", \"Percentage of tweets\")\n",
    "    donut_chart(data)\n",
    "    \n",
    "    print(\"Average polarity score given by algorithm:\", average_polarity)\n",
    "    new_keys = ['Average positivity score','Average negativity score','Average polarity score']\n",
    "    for key,n_key in zip(average_polarity.keys(), new_keys):\n",
    "        average_polarity[n_key] = average_polarity.pop(key)\n",
    "    plot_graph(average_polarity, \"Average polarity\", \"Title\", \"Score\")\n",
    "    \n",
    "    "
   ]
  },
  {
   "cell_type": "code",
   "execution_count": 19,
   "metadata": {},
   "outputs": [
    {
     "data": {
      "text/html": [
       "<div>\n",
       "<style scoped>\n",
       "    .dataframe tbody tr th:only-of-type {\n",
       "        vertical-align: middle;\n",
       "    }\n",
       "\n",
       "    .dataframe tbody tr th {\n",
       "        vertical-align: top;\n",
       "    }\n",
       "\n",
       "    .dataframe thead th {\n",
       "        text-align: right;\n",
       "    }\n",
       "</style>\n",
       "<table border=\"1\" class=\"dataframe\">\n",
       "  <thead>\n",
       "    <tr style=\"text-align: right;\">\n",
       "      <th></th>\n",
       "      <th>0</th>\n",
       "      <th>prediction</th>\n",
       "      <th>polarity</th>\n",
       "    </tr>\n",
       "  </thead>\n",
       "  <tbody>\n",
       "    <tr>\n",
       "      <th>0</th>\n",
       "      <td>@sickbuttowski People who blame are nothing bu...</td>\n",
       "      <td>1</td>\n",
       "      <td>{'neg': 0.086, 'neu': 0.609, 'pos': 0.305, 'co...</td>\n",
       "    </tr>\n",
       "    <tr>\n",
       "      <th>1</th>\n",
       "      <td>@akkkashh why are you ditching football plans ...</td>\n",
       "      <td>0</td>\n",
       "      <td>{'neg': 0.0, 'neu': 1.0, 'pos': 0.0, 'compound...</td>\n",
       "    </tr>\n",
       "    <tr>\n",
       "      <th>2</th>\n",
       "      <td>@sickbuttowski Donnarumma the fucking god</td>\n",
       "      <td>1</td>\n",
       "      <td>{'neg': 0.0, 'neu': 0.626, 'pos': 0.374, 'comp...</td>\n",
       "    </tr>\n",
       "    <tr>\n",
       "      <th>3</th>\n",
       "      <td>mf i have started calling cursor pointer as cr...</td>\n",
       "      <td>0</td>\n",
       "      <td>{'neg': 0.0, 'neu': 1.0, 'pos': 0.0, 'compound...</td>\n",
       "    </tr>\n",
       "    <tr>\n",
       "      <th>4</th>\n",
       "      <td>you can't scream loud enough, no no</td>\n",
       "      <td>-1</td>\n",
       "      <td>{'neg': 0.413, 'neu': 0.375, 'pos': 0.212, 'co...</td>\n",
       "    </tr>\n",
       "  </tbody>\n",
       "</table>\n",
       "</div>"
      ],
      "text/plain": [
       "                                                   0  prediction  \\\n",
       "0  @sickbuttowski People who blame are nothing bu...           1   \n",
       "1  @akkkashh why are you ditching football plans ...           0   \n",
       "2          @sickbuttowski Donnarumma the fucking god           1   \n",
       "3  mf i have started calling cursor pointer as cr...           0   \n",
       "4                you can't scream loud enough, no no          -1   \n",
       "\n",
       "                                            polarity  \n",
       "0  {'neg': 0.086, 'neu': 0.609, 'pos': 0.305, 'co...  \n",
       "1  {'neg': 0.0, 'neu': 1.0, 'pos': 0.0, 'compound...  \n",
       "2  {'neg': 0.0, 'neu': 0.626, 'pos': 0.374, 'comp...  \n",
       "3  {'neg': 0.0, 'neu': 1.0, 'pos': 0.0, 'compound...  \n",
       "4  {'neg': 0.413, 'neu': 0.375, 'pos': 0.212, 'co...  "
      ]
     },
     "execution_count": 19,
     "metadata": {},
     "output_type": "execute_result"
    }
   ],
   "source": [
    "result1 = process_users(auth_api, \"paradox_pj\")\n",
    "result1.head()"
   ]
  },
  {
   "cell_type": "code",
   "execution_count": 20,
   "metadata": {},
   "outputs": [
    {
     "name": "stdout",
     "output_type": "stream",
     "text": [
      "Total valid tweets: 463\n",
      "{'Negative tweets': 171, 'Neutral tweets': 125, 'Positive tweets': 167}\n"
     ]
    },
    {
     "data": {
      "image/png": "[encoded data removed]",
      "text/plain": [
       "<Figure size 720x360 with 1 Axes>"
      ]
     },
     "metadata": {
      "needs_background": "light"
     },
     "output_type": "display_data"
    },
    {
     "data": {
      "image/png": "[encoded data removed]",
      "text/plain": [
       "<Figure size 432x288 with 1 Axes>"
      ]
     },
     "metadata": {},
     "output_type": "display_data"
    },
    {
     "name": "stdout",
     "output_type": "stream",
     "text": [
      "Average polarity score given by algorithm: {'pos': 0.10868, 'neg': 0.08751, 'compound': 0.02945}\n"
     ]
    },
    {
     "data": {
      "image/png": "[encoded data removed]",
      "text/plain": [
       "<Figure size 720x360 with 1 Axes>"
      ]
     },
     "metadata": {
      "needs_background": "light"
     },
     "output_type": "display_data"
    }
   ],
   "source": [
    "# Displaying result1\n",
    "display_result(result1)"
   ]
  },
  {
   "cell_type": "code",
   "execution_count": 21,
   "metadata": {},
   "outputs": [
    {
     "data": {
      "text/html": [
       "<div>\n",
       "<style scoped>\n",
       "    .dataframe tbody tr th:only-of-type {\n",
       "        vertical-align: middle;\n",
       "    }\n",
       "\n",
       "    .dataframe tbody tr th {\n",
       "        vertical-align: top;\n",
       "    }\n",
       "\n",
       "    .dataframe thead th {\n",
       "        text-align: right;\n",
       "    }\n",
       "</style>\n",
       "<table border=\"1\" class=\"dataframe\">\n",
       "  <thead>\n",
       "    <tr style=\"text-align: right;\">\n",
       "      <th></th>\n",
       "      <th>0</th>\n",
       "      <th>prediction</th>\n",
       "      <th>polarity</th>\n",
       "    </tr>\n",
       "  </thead>\n",
       "  <tbody>\n",
       "    <tr>\n",
       "      <th>0</th>\n",
       "      <td>@Rishika5000 @Adobe I admire the fact they gav...</td>\n",
       "      <td>1</td>\n",
       "      <td>{'neg': 0.0, 'neu': 0.744, 'pos': 0.256, 'comp...</td>\n",
       "    </tr>\n",
       "    <tr>\n",
       "      <th>1</th>\n",
       "      <td>@ArunimaKhunteta Why on earth did you open Win...</td>\n",
       "      <td>0</td>\n",
       "      <td>{'neg': 0.0, 'neu': 1.0, 'pos': 0.0, 'compound...</td>\n",
       "    </tr>\n",
       "    <tr>\n",
       "      <th>2</th>\n",
       "      <td>@saurabh_katkade @__akash__19 Have patience, a...</td>\n",
       "      <td>1</td>\n",
       "      <td>{'neg': 0.0, 'neu': 1.0, 'pos': 0.0, 'compound...</td>\n",
       "    </tr>\n",
       "    <tr>\n",
       "      <th>3</th>\n",
       "      <td>Glad to see someone is talking about these stu...</td>\n",
       "      <td>1</td>\n",
       "      <td>{'neg': 0.0, 'neu': 0.786, 'pos': 0.214, 'comp...</td>\n",
       "    </tr>\n",
       "    <tr>\n",
       "      <th>4</th>\n",
       "      <td>@__akash__19 Lot of people don't tend to under...</td>\n",
       "      <td>1</td>\n",
       "      <td>{'neg': 0.0, 'neu': 0.842, 'pos': 0.158, 'comp...</td>\n",
       "    </tr>\n",
       "  </tbody>\n",
       "</table>\n",
       "</div>"
      ],
      "text/plain": [
       "                                                   0  prediction  \\\n",
       "0  @Rishika5000 @Adobe I admire the fact they gav...           1   \n",
       "1  @ArunimaKhunteta Why on earth did you open Win...           0   \n",
       "2  @saurabh_katkade @__akash__19 Have patience, a...           1   \n",
       "3  Glad to see someone is talking about these stu...           1   \n",
       "4  @__akash__19 Lot of people don't tend to under...           1   \n",
       "\n",
       "                                            polarity  \n",
       "0  {'neg': 0.0, 'neu': 0.744, 'pos': 0.256, 'comp...  \n",
       "1  {'neg': 0.0, 'neu': 1.0, 'pos': 0.0, 'compound...  \n",
       "2  {'neg': 0.0, 'neu': 1.0, 'pos': 0.0, 'compound...  \n",
       "3  {'neg': 0.0, 'neu': 0.786, 'pos': 0.214, 'comp...  \n",
       "4  {'neg': 0.0, 'neu': 0.842, 'pos': 0.158, 'comp...  "
      ]
     },
     "execution_count": 21,
     "metadata": {},
     "output_type": "execute_result"
    }
   ],
   "source": [
    "result2 = process_users(auth_api, \"anubhavitis\")\n",
    "result2.head()"
   ]
  },
  {
   "cell_type": "code",
   "execution_count": 22,
   "metadata": {},
   "outputs": [
    {
     "name": "stdout",
     "output_type": "stream",
     "text": [
      "Total valid tweets: 630\n",
      "{'Negative tweets': 119, 'Neutral tweets': 164, 'Positive tweets': 347}\n"
     ]
    },
    {
     "data": {
      "image/png": "[encoded data removed]",
      "text/plain": [
       "<Figure size 720x360 with 1 Axes>"
      ]
     },
     "metadata": {
      "needs_background": "light"
     },
     "output_type": "display_data"
    },
    {
     "data": {
      "image/png": "[encoded data removed]",
      "text/plain": [
       "<Figure size 432x288 with 1 Axes>"
      ]
     },
     "metadata": {},
     "output_type": "display_data"
    },
    {
     "name": "stdout",
     "output_type": "stream",
     "text": [
      "Average polarity score given by algorithm: {'pos': 0.1943, 'neg': 0.04982, 'compound': 0.19992}\n"
     ]
    },
    {
     "data": {
      "image/png": "[encoded data removed]",
      "text/plain": [
       "<Figure size 720x360 with 1 Axes>"
      ]
     },
     "metadata": {
      "needs_background": "light"
     },
     "output_type": "display_data"
    }
   ],
   "source": [
    "# Display result2\n",
    "display_result(result2)"
   ]
  },
  {
   "cell_type": "code",
   "execution_count": 23,
   "metadata": {},
   "outputs": [
    {
     "data": {
      "text/html": [
       "<div>\n",
       "<style scoped>\n",
       "    .dataframe tbody tr th:only-of-type {\n",
       "        vertical-align: middle;\n",
       "    }\n",
       "\n",
       "    .dataframe tbody tr th {\n",
       "        vertical-align: top;\n",
       "    }\n",
       "\n",
       "    .dataframe thead th {\n",
       "        text-align: right;\n",
       "    }\n",
       "</style>\n",
       "<table border=\"1\" class=\"dataframe\">\n",
       "  <thead>\n",
       "    <tr style=\"text-align: right;\">\n",
       "      <th></th>\n",
       "      <th>0</th>\n",
       "      <th>prediction</th>\n",
       "      <th>polarity</th>\n",
       "    </tr>\n",
       "  </thead>\n",
       "  <tbody>\n",
       "    <tr>\n",
       "      <th>0</th>\n",
       "      <td>@Roh057 @letsananyafy Well if you genuinely th...</td>\n",
       "      <td>1</td>\n",
       "      <td>{'neg': 0.0, 'neu': 0.844, 'pos': 0.156, 'comp...</td>\n",
       "    </tr>\n",
       "    <tr>\n",
       "      <th>1</th>\n",
       "      <td>@Roh057 And only a good artist can see through...</td>\n",
       "      <td>1</td>\n",
       "      <td>{'neg': 0.0, 'neu': 0.734, 'pos': 0.266, 'comp...</td>\n",
       "    </tr>\n",
       "    <tr>\n",
       "      <th>2</th>\n",
       "      <td>@tanishaaa03 That's weird how easily Monday vi...</td>\n",
       "      <td>1</td>\n",
       "      <td>{'neg': 0.106, 'neu': 0.625, 'pos': 0.269, 'co...</td>\n",
       "    </tr>\n",
       "    <tr>\n",
       "      <th>3</th>\n",
       "      <td>@pragdua Thanks Pragun 😃\\nYou're doing a great...</td>\n",
       "      <td>1</td>\n",
       "      <td>{'neg': 0.0, 'neu': 0.417, 'pos': 0.583, 'comp...</td>\n",
       "    </tr>\n",
       "    <tr>\n",
       "      <th>4</th>\n",
       "      <td>@pragdua 👋 \\nThat would be awesome. Thank you ...</td>\n",
       "      <td>1</td>\n",
       "      <td>{'neg': 0.0, 'neu': 0.515, 'pos': 0.485, 'comp...</td>\n",
       "    </tr>\n",
       "  </tbody>\n",
       "</table>\n",
       "</div>"
      ],
      "text/plain": [
       "                                                   0  prediction  \\\n",
       "0  @Roh057 @letsananyafy Well if you genuinely th...           1   \n",
       "1  @Roh057 And only a good artist can see through...           1   \n",
       "2  @tanishaaa03 That's weird how easily Monday vi...           1   \n",
       "3  @pragdua Thanks Pragun 😃\\nYou're doing a great...           1   \n",
       "4  @pragdua 👋 \\nThat would be awesome. Thank you ...           1   \n",
       "\n",
       "                                            polarity  \n",
       "0  {'neg': 0.0, 'neu': 0.844, 'pos': 0.156, 'comp...  \n",
       "1  {'neg': 0.0, 'neu': 0.734, 'pos': 0.266, 'comp...  \n",
       "2  {'neg': 0.106, 'neu': 0.625, 'pos': 0.269, 'co...  \n",
       "3  {'neg': 0.0, 'neu': 0.417, 'pos': 0.583, 'comp...  \n",
       "4  {'neg': 0.0, 'neu': 0.515, 'pos': 0.485, 'comp...  "
      ]
     },
     "execution_count": 23,
     "metadata": {},
     "output_type": "execute_result"
    }
   ],
   "source": [
    "result3 = process_users(auth_api, \"pragati_verma18\")\n",
    "result3.head()"
   ]
  },
  {
   "cell_type": "code",
   "execution_count": 24,
   "metadata": {},
   "outputs": [
    {
     "name": "stdout",
     "output_type": "stream",
     "text": [
      "Total valid tweets: 719\n",
      "{'Negative tweets': 102, 'Neutral tweets': 143, 'Positive tweets': 474}\n"
     ]
    },
    {
     "data": {
      "image/png": "[encoded data removed]",
      "text/plain": [
       "<Figure size 720x360 with 1 Axes>"
      ]
     },
     "metadata": {
      "needs_background": "light"
     },
     "output_type": "display_data"
    },
    {
     "data": {
      "image/png": "[encoded data removed]",
      "text/plain": [
       "<Figure size 432x288 with 1 Axes>"
      ]
     },
     "metadata": {},
     "output_type": "display_data"
    },
    {
     "name": "stdout",
     "output_type": "stream",
     "text": [
      "Average polarity score given by algorithm: {'pos': 0.19776, 'neg': 0.03271, 'compound': 0.36504}\n"
     ]
    },
    {
     "data": {
      "image/png": "[encoded data removed]",
      "text/plain": [
       "<Figure size 720x360 with 1 Axes>"
      ]
     },
     "metadata": {
      "needs_background": "light"
     },
     "output_type": "display_data"
    }
   ],
   "source": [
    "# Display result3\n",
    "display_result(result3)"
   ]
  },
  {
   "cell_type": "code",
   "execution_count": 25,
   "metadata": {},
   "outputs": [
    {
     "ename": "TweepError",
     "evalue": "[{'code': 50, 'message': 'User not found.'}]",
     "output_type": "error",
     "traceback": [
      "\u001b[1;31m---------------------------------------------------------------------------\u001b[0m",
      "\u001b[1;31mTweepError\u001b[0m                                Traceback (most recent call last)",
      "\u001b[1;32m<ipython-input-25-fc69b78845f5>\u001b[0m in \u001b[0;36m<module>\u001b[1;34m\u001b[0m\n\u001b[1;32m----> 1\u001b[1;33m \u001b[0mresult4\u001b[0m \u001b[1;33m=\u001b[0m \u001b[0mprocess_users\u001b[0m\u001b[1;33m(\u001b[0m\u001b[0mauth_api\u001b[0m\u001b[1;33m,\u001b[0m \u001b[1;34m\"swahadesi\"\u001b[0m\u001b[1;33m)\u001b[0m\u001b[1;33m\u001b[0m\u001b[1;33m\u001b[0m\u001b[0m\n\u001b[0m\u001b[0;32m      2\u001b[0m \u001b[0mresult4\u001b[0m\u001b[1;33m.\u001b[0m\u001b[0mhead\u001b[0m\u001b[1;33m(\u001b[0m\u001b[1;33m)\u001b[0m\u001b[1;33m\u001b[0m\u001b[1;33m\u001b[0m\u001b[0m\n",
      "\u001b[1;32m<ipython-input-17-d75666fcbca3>\u001b[0m in \u001b[0;36mprocess_users\u001b[1;34m(auth_api, user)\u001b[0m\n\u001b[0;32m      3\u001b[0m \u001b[1;32mdef\u001b[0m \u001b[0mprocess_users\u001b[0m\u001b[1;33m(\u001b[0m\u001b[0mauth_api\u001b[0m\u001b[1;33m,\u001b[0m \u001b[0muser\u001b[0m\u001b[1;33m)\u001b[0m\u001b[1;33m:\u001b[0m\u001b[1;33m\u001b[0m\u001b[1;33m\u001b[0m\u001b[0m\n\u001b[0;32m      4\u001b[0m     \u001b[1;31m# Calling functions to fetch the user's details and tweets.\u001b[0m\u001b[1;33m\u001b[0m\u001b[1;33m\u001b[0m\u001b[1;33m\u001b[0m\u001b[0m\n\u001b[1;32m----> 5\u001b[1;33m     \u001b[0muser_details\u001b[0m \u001b[1;33m=\u001b[0m \u001b[0mfetch_user_details\u001b[0m\u001b[1;33m(\u001b[0m\u001b[0mauth_api\u001b[0m\u001b[1;33m,\u001b[0m \u001b[0muser\u001b[0m\u001b[1;33m)\u001b[0m\u001b[1;33m\u001b[0m\u001b[1;33m\u001b[0m\u001b[0m\n\u001b[0m\u001b[0;32m      6\u001b[0m     \u001b[0muser_tweets\u001b[0m \u001b[1;33m=\u001b[0m \u001b[0mfetch_user_tweets\u001b[0m\u001b[1;33m(\u001b[0m\u001b[0mauth_api\u001b[0m\u001b[1;33m,\u001b[0m \u001b[0muser\u001b[0m\u001b[1;33m,\u001b[0m \u001b[1;36m1000\u001b[0m\u001b[1;33m)\u001b[0m\u001b[1;33m\u001b[0m\u001b[1;33m\u001b[0m\u001b[0m\n\u001b[0;32m      7\u001b[0m \u001b[1;33m\u001b[0m\u001b[0m\n",
      "\u001b[1;32m<ipython-input-14-93f061ffb973>\u001b[0m in \u001b[0;36mfetch_user_details\u001b[1;34m(auth_api, user)\u001b[0m\n\u001b[0;32m      2\u001b[0m \u001b[1;33m\u001b[0m\u001b[0m\n\u001b[0;32m      3\u001b[0m \u001b[1;32mdef\u001b[0m \u001b[0mfetch_user_details\u001b[0m\u001b[1;33m(\u001b[0m\u001b[0mauth_api\u001b[0m\u001b[1;33m,\u001b[0m \u001b[0muser\u001b[0m\u001b[1;33m)\u001b[0m\u001b[1;33m:\u001b[0m\u001b[1;33m\u001b[0m\u001b[1;33m\u001b[0m\u001b[0m\n\u001b[1;32m----> 4\u001b[1;33m     \u001b[0muser_item\u001b[0m \u001b[1;33m=\u001b[0m \u001b[0mauth_api\u001b[0m\u001b[1;33m.\u001b[0m\u001b[0mget_user\u001b[0m\u001b[1;33m(\u001b[0m\u001b[0muser\u001b[0m\u001b[1;33m)\u001b[0m\u001b[1;33m\u001b[0m\u001b[1;33m\u001b[0m\u001b[0m\n\u001b[0m\u001b[0;32m      5\u001b[0m     \u001b[1;31m# Adding user details into a list.\u001b[0m\u001b[1;33m\u001b[0m\u001b[1;33m\u001b[0m\u001b[1;33m\u001b[0m\u001b[0m\n\u001b[0;32m      6\u001b[0m     user_details = [\n",
      "\u001b[1;32mD:\\Projects\\New stuff\\twt-sentimental-analysis\\venv\\lib\\site-packages\\tweepy\\binder.py\u001b[0m in \u001b[0;36m_call\u001b[1;34m(*args, **kwargs)\u001b[0m\n\u001b[0;32m    251\u001b[0m                 \u001b[1;32mreturn\u001b[0m \u001b[0mmethod\u001b[0m\u001b[1;33m\u001b[0m\u001b[1;33m\u001b[0m\u001b[0m\n\u001b[0;32m    252\u001b[0m             \u001b[1;32melse\u001b[0m\u001b[1;33m:\u001b[0m\u001b[1;33m\u001b[0m\u001b[1;33m\u001b[0m\u001b[0m\n\u001b[1;32m--> 253\u001b[1;33m                 \u001b[1;32mreturn\u001b[0m \u001b[0mmethod\u001b[0m\u001b[1;33m.\u001b[0m\u001b[0mexecute\u001b[0m\u001b[1;33m(\u001b[0m\u001b[1;33m)\u001b[0m\u001b[1;33m\u001b[0m\u001b[1;33m\u001b[0m\u001b[0m\n\u001b[0m\u001b[0;32m    254\u001b[0m         \u001b[1;32mfinally\u001b[0m\u001b[1;33m:\u001b[0m\u001b[1;33m\u001b[0m\u001b[1;33m\u001b[0m\u001b[0m\n\u001b[0;32m    255\u001b[0m             \u001b[0mmethod\u001b[0m\u001b[1;33m.\u001b[0m\u001b[0msession\u001b[0m\u001b[1;33m.\u001b[0m\u001b[0mclose\u001b[0m\u001b[1;33m(\u001b[0m\u001b[1;33m)\u001b[0m\u001b[1;33m\u001b[0m\u001b[1;33m\u001b[0m\u001b[0m\n",
      "\u001b[1;32mD:\\Projects\\New stuff\\twt-sentimental-analysis\\venv\\lib\\site-packages\\tweepy\\binder.py\u001b[0m in \u001b[0;36mexecute\u001b[1;34m(self)\u001b[0m\n\u001b[0;32m    232\u001b[0m                     \u001b[1;32mraise\u001b[0m \u001b[0mRateLimitError\u001b[0m\u001b[1;33m(\u001b[0m\u001b[0merror_msg\u001b[0m\u001b[1;33m,\u001b[0m \u001b[0mresp\u001b[0m\u001b[1;33m)\u001b[0m\u001b[1;33m\u001b[0m\u001b[1;33m\u001b[0m\u001b[0m\n\u001b[0;32m    233\u001b[0m                 \u001b[1;32melse\u001b[0m\u001b[1;33m:\u001b[0m\u001b[1;33m\u001b[0m\u001b[1;33m\u001b[0m\u001b[0m\n\u001b[1;32m--> 234\u001b[1;33m                     \u001b[1;32mraise\u001b[0m \u001b[0mTweepError\u001b[0m\u001b[1;33m(\u001b[0m\u001b[0merror_msg\u001b[0m\u001b[1;33m,\u001b[0m \u001b[0mresp\u001b[0m\u001b[1;33m,\u001b[0m \u001b[0mapi_code\u001b[0m\u001b[1;33m=\u001b[0m\u001b[0mapi_error_code\u001b[0m\u001b[1;33m)\u001b[0m\u001b[1;33m\u001b[0m\u001b[1;33m\u001b[0m\u001b[0m\n\u001b[0m\u001b[0;32m    235\u001b[0m \u001b[1;33m\u001b[0m\u001b[0m\n\u001b[0;32m    236\u001b[0m             \u001b[1;31m# Parse the response payload\u001b[0m\u001b[1;33m\u001b[0m\u001b[1;33m\u001b[0m\u001b[1;33m\u001b[0m\u001b[0m\n",
      "\u001b[1;31mTweepError\u001b[0m: [{'code': 50, 'message': 'User not found.'}]"
     ]
    }
   ],
   "source": [
    "result4 = process_users(auth_api, \"swahadesi\")\n",
    "result4.head()"
   ]
  },
  {
   "cell_type": "code",
   "execution_count": null,
   "metadata": {},
   "outputs": [],
   "source": [
    "display_result(result4)"
   ]
  }
 ],
 "metadata": {
  "kernelspec": {
   "display_name": "venv",
   "language": "python",
   "name": "venv"
  },
  "language_info": {
   "codemirror_mode": {
    "name": "ipython",
    "version": 3
   },
   "file_extension": ".py",
   "mimetype": "text/x-python",
   "name": "python",
   "nbconvert_exporter": "python",
   "pygments_lexer": "ipython3",
   "version": "3.8.5"
  }
 },
 "nbformat": 4,
 "nbformat_minor": 4
}
